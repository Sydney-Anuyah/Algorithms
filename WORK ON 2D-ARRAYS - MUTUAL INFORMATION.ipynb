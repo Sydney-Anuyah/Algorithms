{
 "cells": [
  {
   "cell_type": "markdown",
   "id": "6938c038",
   "metadata": {},
   "source": [
    "# MUTUAL INFORMATION"
   ]
  },
  {
   "cell_type": "markdown",
   "id": "f34798b4",
   "metadata": {},
   "source": [
    "Mutual information is one of many quantities that measures how much one random variables tells us about another. \n",
    "\n",
    "Consider this formula below:\n",
    "\n",
    "\n",
    "$\\displaystyle\\sum_{n=ij} ^{\\infty} P_{ij} * log (P_{ij}) $    -  $\\displaystyle\\sum_{n=j} ^{\\infty} P_{i} * log (P_{i}) $  - $\\displaystyle\\sum_{n=i} ^{\\infty} P_{j} * log (P_{j}) $ \n",
    "\n",
    "\n",
    "Implement this mutual probability formula in python.\n",
    "\n",
    "\n",
    "$                    P_{i}$   =      $\\displaystyle\\sum_{n=j} ^{\\infty} P_{ij}  $ \n",
    "\n",
    "and\n",
    " \n",
    " $                   P_{j}$   =       $\\displaystyle\\sum_{n=i} ^{\\infty} P_{ij}  $ "
   ]
  },
  {
   "cell_type": "markdown",
   "id": "8a8de000",
   "metadata": {},
   "source": [
    "# SOLUTION\n",
    "\n",
    "First to understand the question, we have to understand a 2 dimensional array which is signified by '$P_{ij}$'\n",
    "\n",
    "A two dimensional array is somewhat similar to a matrix. It has just rows and columns. The two of them could be of any length. \n",
    "\n",
    "From the formula, we also have the 1-d array signified by '$P_{i}$' and '$P_{j}$'. A 1-D array is usually called a vector!\n",
    "\n",
    "In the 2-d array, we signify the first term `i` as the row and the term `j` as the column. Therefore, the term   '$ P_{i}$' is a row vector. Now the issue is converting a 2-d array to a row vector. From the formula, we see the relationship between the 2d array and the row vector is established as the summation of all the column terms i.e. `the 'j' term`. The sum of all the column terms will result in a row vector.\n",
    "\n",
    "The same goes for '$ P_{j}$' which is a column vector. This vector here is the sum of the row terms i.e. `the 'i' term`. \n",
    "\n"
   ]
  },
  {
   "cell_type": "markdown",
   "id": "505f90fa",
   "metadata": {},
   "source": [
    "# TEST CASES\n",
    "\n",
    "To capture all faults we have the list of possible test cases.\n",
    "\n",
    "1. The function can work for a 1 by 1 array\n",
    "2. The function can work for a vector (i by 1 array)\n",
    "3. The function can work for a square matrix of any length \n",
    "4. The function can work for a rectangular matrix of any length\n",
    "5. The function can work for 0\n",
    "6. The function can work for integers and floats"
   ]
  },
  {
   "cell_type": "code",
   "execution_count": 1,
   "id": "defc72b8",
   "metadata": {},
   "outputs": [],
   "source": [
    "import pandas as pd\n",
    "import numpy as np\n",
    "import warnings\n",
    "warnings.filterwarnings('ignore')"
   ]
  },
  {
   "cell_type": "code",
   "execution_count": 2,
   "id": "9b48c978",
   "metadata": {},
   "outputs": [],
   "source": [
    "def formula (array):\n",
    "    Array_Format = np.array(array) #First Format to Array\n",
    "    if len(Array_Format.shape) == 0:\n",
    "        Array_Format = np.array([[Array_Format]])\n",
    "        \n",
    "    elif len(Array_Format.shape) == 1:\n",
    "        Array_Format = np.array([Array_Format])\n",
    "        \n",
    "    elif len(Array_Format.shape) > 2:\n",
    "        return print('Maximum of 2D-ARRAY')\n",
    "        \n",
    "    Log_Array_Format = np.log(Array_Format) #Then get the log of the Array\n",
    "    Log_Array_Format = np.nan_to_num(Log_Array_Format) #This sets arrays that do not have log to return 0\n",
    "    \n",
    "    col_totals = Array_Format.sum(axis=0) #Add all the columns together to get the row vector\n",
    "    col_log = np.log(col_totals) #Find the log of the row vector\n",
    "    col_log = np.nan_to_num(col_log) #This sets arrays that do not have log to return 0\n",
    "    \n",
    "    row_totals = Array_Format.sum(axis=1) #Add all the rows together to get the column vector\n",
    "    row_log = np.log(row_totals) #Find the log of the column vector\n",
    "    row_log = np.nan_to_num(row_log) #This sets arrays that do not have log to return 0\n",
    "   \n",
    "    #Perform a scalar multiplication and add the sum to infinity\n",
    "    return (np.sum(Array_Format * Log_Array_Format) - np.sum(col_totals * col_log) - np.sum(row_totals * row_log))\n"
   ]
  },
  {
   "cell_type": "code",
   "execution_count": 3,
   "id": "b3b57bd3",
   "metadata": {},
   "outputs": [],
   "source": [
    "tests = [{'test1':np.random.randint(10,  size = (1, 1)),\n",
    "       'test2':np.random.randint(10,  size = (5, 1)),\n",
    "       'test3':np.random.randint(100,  size = (15, 15)),\n",
    "        'test4':np.random.randint(1000,  size = (150, 200)),\n",
    "        'test5':0\n",
    "       }]"
   ]
  },
  {
   "cell_type": "code",
   "execution_count": 4,
   "id": "f165825c",
   "metadata": {},
   "outputs": [
    {
     "data": {
      "text/plain": [
       "-13.621371043387192"
      ]
     },
     "execution_count": 4,
     "metadata": {},
     "output_type": "execute_result"
    }
   ],
   "source": [
    "#Test Case 1\n",
    "formula(np.random.randint(10,  size = (1, 1)))"
   ]
  },
  {
   "cell_type": "code",
   "execution_count": 5,
   "id": "71caa11e",
   "metadata": {
    "scrolled": true
   },
   "outputs": [
    {
     "data": {
      "text/plain": [
       "-72.11636696637044"
      ]
     },
     "execution_count": 5,
     "metadata": {},
     "output_type": "execute_result"
    }
   ],
   "source": [
    "#Test Case 2\n",
    "formula(np.random.randint(10,  size = (5, 1)))"
   ]
  },
  {
   "cell_type": "code",
   "execution_count": 6,
   "id": "717bb240",
   "metadata": {},
   "outputs": [
    {
     "data": {
      "text/plain": [
       "-108385.13595732226"
      ]
     },
     "execution_count": 6,
     "metadata": {},
     "output_type": "execute_result"
    }
   ],
   "source": [
    "#Test Case 3\n",
    "formula(np.random.randint(100,  size = (15, 15)))"
   ]
  },
  {
   "cell_type": "code",
   "execution_count": 7,
   "id": "7bc7ad1a",
   "metadata": {},
   "outputs": [
    {
     "data": {
      "text/plain": [
       "-244144020.02602667"
      ]
     },
     "execution_count": 7,
     "metadata": {},
     "output_type": "execute_result"
    }
   ],
   "source": [
    "#Test Case 4\n",
    "formula(np.random.randint(1000,  size = (150, 200)))"
   ]
  },
  {
   "cell_type": "code",
   "execution_count": 8,
   "id": "7fe65789",
   "metadata": {},
   "outputs": [
    {
     "data": {
      "text/plain": [
       "0.0"
      ]
     },
     "execution_count": 8,
     "metadata": {},
     "output_type": "execute_result"
    }
   ],
   "source": [
    "#Test Case 5\n",
    "formula([0])"
   ]
  },
  {
   "cell_type": "code",
   "execution_count": 9,
   "id": "2a32b3b7",
   "metadata": {},
   "outputs": [
    {
     "data": {
      "text/plain": [
       "-448.21002363458746"
      ]
     },
     "execution_count": 9,
     "metadata": {},
     "output_type": "execute_result"
    }
   ],
   "source": [
    "#Test Case 6\n",
    "formula(97.8)"
   ]
  },
  {
   "cell_type": "markdown",
   "id": "c0ad7c09",
   "metadata": {},
   "source": [
    "The `formula function` can take in your matrix and solve it according to the formula above. \n",
    "\n",
    "It took test cases of users who put in 1dimensional arrays and also, users that input integers."
   ]
  }
 ],
 "metadata": {
  "kernelspec": {
   "display_name": "Python 3 (ipykernel)",
   "language": "python",
   "name": "python3"
  },
  "language_info": {
   "codemirror_mode": {
    "name": "ipython",
    "version": 3
   },
   "file_extension": ".py",
   "mimetype": "text/x-python",
   "name": "python",
   "nbconvert_exporter": "python",
   "pygments_lexer": "ipython3",
   "version": "3.9.7"
  }
 },
 "nbformat": 4,
 "nbformat_minor": 5
}
